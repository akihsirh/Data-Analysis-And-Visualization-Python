{
 "cells": [
  {
   "cell_type": "markdown",
   "metadata": {},
   "source": [
    "## Rank and sort "
   ]
  },
  {
   "cell_type": "code",
   "execution_count": 3,
   "metadata": {},
   "outputs": [],
   "source": [
    "#Import libraries\n",
    "import numpy as np\n",
    "from pandas import Series,DataFrame\n",
    "import pandas as pd"
   ]
  },
  {
   "cell_type": "code",
   "execution_count": 9,
   "metadata": {},
   "outputs": [
    {
     "name": "stdout",
     "output_type": "stream",
     "text": [
      "Before sort\n",
      "H     8\n",
      "R     9\n",
      "I    10\n",
      "dtype: int64\n",
      "After sort by index\n",
      "H     8\n",
      "I    10\n",
      "R     9\n",
      "dtype: int64\n",
      "After sort by values\n",
      "H     8\n",
      "R     9\n",
      "I    10\n",
      "dtype: int64\n",
      "Series rank\n"
     ]
    },
    {
     "data": {
      "text/plain": [
       "H    1.0\n",
       "R    2.0\n",
       "I    3.0\n",
       "dtype: float64"
      ]
     },
     "execution_count": 9,
     "metadata": {},
     "output_type": "execute_result"
    }
   ],
   "source": [
    "ser1 = Series([8,9,10],index=list('HRI'))\n",
    "print(\"Before sort\")\n",
    "print(ser1)\n",
    "print(\"After sort by index\")\n",
    "print(ser1.sort_index())\n",
    "print(\"After sort by values\")\n",
    "print(ser1.sort_values())\n",
    "print(\"Series rank\")\n",
    "ser1.rank()"
   ]
  },
  {
   "cell_type": "code",
   "execution_count": null,
   "metadata": {},
   "outputs": [],
   "source": []
  }
 ],
 "metadata": {
  "kernelspec": {
   "display_name": "Python 3",
   "language": "python",
   "name": "python3"
  },
  "language_info": {
   "codemirror_mode": {
    "name": "ipython",
    "version": 3
   },
   "file_extension": ".py",
   "mimetype": "text/x-python",
   "name": "python",
   "nbconvert_exporter": "python",
   "pygments_lexer": "ipython3",
   "version": "3.7.0"
  }
 },
 "nbformat": 4,
 "nbformat_minor": 2
}
