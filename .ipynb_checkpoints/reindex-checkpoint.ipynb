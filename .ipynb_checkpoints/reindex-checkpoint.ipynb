{
 "cells": [
  {
   "cell_type": "markdown",
   "metadata": {},
   "source": [
    "## Reindex"
   ]
  },
  {
   "cell_type": "code",
   "execution_count": 1,
   "metadata": {},
   "outputs": [],
   "source": [
    "import numpy as np\n",
    "from pandas import Series, DataFrame\n",
    "import pandas as pd\n",
    "from numpy.random import randn"
   ]
  },
  {
   "cell_type": "code",
   "execution_count": 3,
   "metadata": {},
   "outputs": [
    {
     "data": {
      "text/plain": [
       "1    A\n",
       "2    B\n",
       "3    C\n",
       "4    D\n",
       "dtype: object"
      ]
     },
     "execution_count": 3,
     "metadata": {},
     "output_type": "execute_result"
    }
   ],
   "source": [
    "#Sample Series\n",
    "sample_series = Series(['A','B','C','D'],index=[1,2,3,4])\n",
    "sample_series"
   ]
  },
  {
   "cell_type": "code",
   "execution_count": 14,
   "metadata": {},
   "outputs": [
    {
     "data": {
      "text/plain": [
       "1      A\n",
       "2      B\n",
       "3      C\n",
       "4      D\n",
       "5    Def\n",
       "6    Def\n",
       "7    Def\n",
       "8    Def\n",
       "dtype: object"
      ]
     },
     "execution_count": 14,
     "metadata": {},
     "output_type": "execute_result"
    }
   ],
   "source": [
    "#Add additional indexes and give a default value for new index value not present in previous series\n",
    "new_index = [1,2,3,4,5,6,7,8]\n",
    "sample_series.reindex(new_index,fill_value='Def')"
   ]
  },
  {
   "cell_type": "code",
   "execution_count": 23,
   "metadata": {},
   "outputs": [
    {
     "name": "stdout",
     "output_type": "stream",
     "text": [
      "0      Apples\n",
      "3     Oranges\n",
      "10    Bananas\n",
      "dtype: object \n",
      "\n",
      "Apply forward fill \n",
      "\n"
     ]
    },
    {
     "data": {
      "text/plain": [
       "0      Apples\n",
       "1      Apples\n",
       "2      Apples\n",
       "3     Oranges\n",
       "4     Oranges\n",
       "5     Oranges\n",
       "6     Oranges\n",
       "7     Oranges\n",
       "8     Oranges\n",
       "9     Oranges\n",
       "10    Bananas\n",
       "dtype: object"
      ]
     },
     "execution_count": 23,
     "metadata": {},
     "output_type": "execute_result"
    }
   ],
   "source": [
    "#Forward fill\n",
    "fruits = Series(['Apples','Oranges','Bananas'],index=[0,3,10])\n",
    "print(fruits,\"\\n\")\n",
    "print(\"Apply forward fill \\n\")\n",
    "fruits.reindex(range(11),method=\"ffill\")"
   ]
  },
  {
   "cell_type": "code",
   "execution_count": 24,
   "metadata": {},
   "outputs": [
    {
     "name": "stdout",
     "output_type": "stream",
     "text": [
      "2      Apples\n",
      "3     Oranges\n",
      "10    Bananas\n",
      "dtype: object \n",
      "\n",
      "Apply backward fill \n",
      "\n"
     ]
    },
    {
     "data": {
      "text/plain": [
       "0      Apples\n",
       "1      Apples\n",
       "2      Apples\n",
       "3     Oranges\n",
       "4     Bananas\n",
       "5     Bananas\n",
       "6     Bananas\n",
       "7     Bananas\n",
       "8     Bananas\n",
       "9     Bananas\n",
       "10    Bananas\n",
       "dtype: object"
      ]
     },
     "execution_count": 24,
     "metadata": {},
     "output_type": "execute_result"
    }
   ],
   "source": [
    "#Back fill\n",
    "fruits = Series(['Apples','Oranges','Bananas'],index=[2,3,10])\n",
    "print(fruits,\"\\n\")\n",
    "print(\"Apply backward fill \\n\")\n",
    "fruits.reindex(range(11),method=\"bfill\")"
   ]
  },
  {
   "cell_type": "code",
   "execution_count": 42,
   "metadata": {},
   "outputs": [
    {
     "data": {
      "text/html": [
       "<div>\n",
       "<style scoped>\n",
       "    .dataframe tbody tr th:only-of-type {\n",
       "        vertical-align: middle;\n",
       "    }\n",
       "\n",
       "    .dataframe tbody tr th {\n",
       "        vertical-align: top;\n",
       "    }\n",
       "\n",
       "    .dataframe thead th {\n",
       "        text-align: right;\n",
       "    }\n",
       "</style>\n",
       "<table border=\"1\" class=\"dataframe\">\n",
       "  <thead>\n",
       "    <tr style=\"text-align: right;\">\n",
       "      <th></th>\n",
       "      <th>Fruit</th>\n",
       "      <th>Count</th>\n",
       "    </tr>\n",
       "  </thead>\n",
       "  <tbody>\n",
       "    <tr>\n",
       "      <th>0</th>\n",
       "      <td>Apples</td>\n",
       "      <td>2</td>\n",
       "    </tr>\n",
       "    <tr>\n",
       "      <th>1</th>\n",
       "      <td>Oranges</td>\n",
       "      <td>5</td>\n",
       "    </tr>\n",
       "    <tr>\n",
       "      <th>2</th>\n",
       "      <td>Bananas</td>\n",
       "      <td>7</td>\n",
       "    </tr>\n",
       "  </tbody>\n",
       "</table>\n",
       "</div>"
      ],
      "text/plain": [
       "     Fruit  Count\n",
       "0   Apples      2\n",
       "1  Oranges      5\n",
       "2  Bananas      7"
      ]
     },
     "execution_count": 42,
     "metadata": {},
     "output_type": "execute_result"
    }
   ],
   "source": [
    "fruit_basket = DataFrame([[\"Apples\",2],[\"Oranges\",5],[\"Bananas\",7]], columns=[\"Fruit\",\"Count\"])\n",
    "fruit_basket"
   ]
  },
  {
   "cell_type": "code",
   "execution_count": 46,
   "metadata": {},
   "outputs": [
    {
     "data": {
      "text/html": [
       "<div>\n",
       "<style scoped>\n",
       "    .dataframe tbody tr th:only-of-type {\n",
       "        vertical-align: middle;\n",
       "    }\n",
       "\n",
       "    .dataframe tbody tr th {\n",
       "        vertical-align: top;\n",
       "    }\n",
       "\n",
       "    .dataframe thead th {\n",
       "        text-align: right;\n",
       "    }\n",
       "</style>\n",
       "<table border=\"1\" class=\"dataframe\">\n",
       "  <thead>\n",
       "    <tr style=\"text-align: right;\">\n",
       "      <th></th>\n",
       "      <th>Fruit</th>\n",
       "      <th>Count</th>\n",
       "      <th>Market</th>\n",
       "    </tr>\n",
       "  </thead>\n",
       "  <tbody>\n",
       "    <tr>\n",
       "      <th>0</th>\n",
       "      <td>Apples</td>\n",
       "      <td>2</td>\n",
       "      <td>Uni Market</td>\n",
       "    </tr>\n",
       "    <tr>\n",
       "      <th>1</th>\n",
       "      <td>Oranges</td>\n",
       "      <td>5</td>\n",
       "      <td>Uni Market</td>\n",
       "    </tr>\n",
       "    <tr>\n",
       "      <th>2</th>\n",
       "      <td>Bananas</td>\n",
       "      <td>7</td>\n",
       "      <td>Uni Market</td>\n",
       "    </tr>\n",
       "  </tbody>\n",
       "</table>\n",
       "</div>"
      ],
      "text/plain": [
       "     Fruit  Count      Market\n",
       "0   Apples      2  Uni Market\n",
       "1  Oranges      5  Uni Market\n",
       "2  Bananas      7  Uni Market"
      ]
     },
     "execution_count": 46,
     "metadata": {},
     "output_type": "execute_result"
    }
   ],
   "source": [
    "fruit_basket.reindex(columns=[\"Fruit\",\"Count\",\"Market\"], fill_value=\"Uni Market\")"
   ]
  }
 ],
 "metadata": {
  "kernelspec": {
   "display_name": "Python 3",
   "language": "python",
   "name": "python3"
  },
  "language_info": {
   "codemirror_mode": {
    "name": "ipython",
    "version": 3
   },
   "file_extension": ".py",
   "mimetype": "text/x-python",
   "name": "python",
   "nbconvert_exporter": "python",
   "pygments_lexer": "ipython3",
   "version": "3.7.0"
  }
 },
 "nbformat": 4,
 "nbformat_minor": 2
}
