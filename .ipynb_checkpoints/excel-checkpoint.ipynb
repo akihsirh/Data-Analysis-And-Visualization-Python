{
 "cells": [
  {
   "cell_type": "markdown",
   "metadata": {},
   "source": [
    "## Basic excel with Python"
   ]
  },
  {
   "cell_type": "code",
   "execution_count": 1,
   "metadata": {},
   "outputs": [],
   "source": [
    "import pandas as pd"
   ]
  },
  {
   "cell_type": "code",
   "execution_count": 2,
   "metadata": {},
   "outputs": [
    {
     "name": "stdout",
     "output_type": "stream",
     "text": [
      "Requirement already satisfied: xlrd in c:\\users\\shett\\anaconda3\\lib\\site-packages (1.1.0)\n"
     ]
    }
   ],
   "source": [
    "#!pip install xlrd"
   ]
  },
  {
   "cell_type": "code",
   "execution_count": 3,
   "metadata": {},
   "outputs": [
    {
     "name": "stdout",
     "output_type": "stream",
     "text": [
      "Requirement already satisfied: openpyxl in c:\\users\\shett\\anaconda3\\lib\\site-packages (2.5.6)\n",
      "Requirement already satisfied: jdcal in c:\\users\\shett\\anaconda3\\lib\\site-packages (from openpyxl) (1.4)\n",
      "Requirement already satisfied: et-xmlfile in c:\\users\\shett\\anaconda3\\lib\\site-packages (from openpyxl) (1.0.1)\n"
     ]
    }
   ],
   "source": [
    "#!pip install openpyxl"
   ]
  },
  {
   "cell_type": "code",
   "execution_count": 4,
   "metadata": {},
   "outputs": [],
   "source": [
    "xlsfile = pd.ExcelFile(\"Sample_excel.xlsx\")"
   ]
  },
  {
   "cell_type": "code",
   "execution_count": 5,
   "metadata": {},
   "outputs": [
    {
     "data": {
      "text/html": [
       "<div>\n",
       "<style scoped>\n",
       "    .dataframe tbody tr th:only-of-type {\n",
       "        vertical-align: middle;\n",
       "    }\n",
       "\n",
       "    .dataframe tbody tr th {\n",
       "        vertical-align: top;\n",
       "    }\n",
       "\n",
       "    .dataframe thead th {\n",
       "        text-align: right;\n",
       "    }\n",
       "</style>\n",
       "<table border=\"1\" class=\"dataframe\">\n",
       "  <thead>\n",
       "    <tr style=\"text-align: right;\">\n",
       "      <th></th>\n",
       "      <th>Name</th>\n",
       "      <th>Profession</th>\n",
       "      <th>Age</th>\n",
       "      <th>Has kids</th>\n",
       "      <th>Date of birth</th>\n",
       "      <th>Date of death</th>\n",
       "    </tr>\n",
       "  </thead>\n",
       "  <tbody>\n",
       "    <tr>\n",
       "      <th>0</th>\n",
       "      <td>Vera Rubin</td>\n",
       "      <td>scientist</td>\n",
       "      <td>88</td>\n",
       "      <td>True</td>\n",
       "      <td>1928-07-23</td>\n",
       "      <td>2016-12-25</td>\n",
       "    </tr>\n",
       "    <tr>\n",
       "      <th>1</th>\n",
       "      <td>Mohamed Ali</td>\n",
       "      <td>athlete</td>\n",
       "      <td>74</td>\n",
       "      <td>True</td>\n",
       "      <td>1942-01-17</td>\n",
       "      <td>2016-06-03</td>\n",
       "    </tr>\n",
       "    <tr>\n",
       "      <th>2</th>\n",
       "      <td>Morley Safer</td>\n",
       "      <td>journalist</td>\n",
       "      <td>84</td>\n",
       "      <td>True</td>\n",
       "      <td>1931-11-08</td>\n",
       "      <td>2016-05-19</td>\n",
       "    </tr>\n",
       "    <tr>\n",
       "      <th>3</th>\n",
       "      <td>Fidel Castro</td>\n",
       "      <td>politician</td>\n",
       "      <td>90</td>\n",
       "      <td>True</td>\n",
       "      <td>1926-08-13</td>\n",
       "      <td>2016-11-25</td>\n",
       "    </tr>\n",
       "    <tr>\n",
       "      <th>4</th>\n",
       "      <td>Antonin Scalia</td>\n",
       "      <td>lawyer</td>\n",
       "      <td>79</td>\n",
       "      <td>True</td>\n",
       "      <td>1936-03-11</td>\n",
       "      <td>2016-02-13</td>\n",
       "    </tr>\n",
       "    <tr>\n",
       "      <th>5</th>\n",
       "      <td>Jo Cox</td>\n",
       "      <td>politician</td>\n",
       "      <td>41</td>\n",
       "      <td>True</td>\n",
       "      <td>1974-06-22</td>\n",
       "      <td>2016-06-16</td>\n",
       "    </tr>\n",
       "    <tr>\n",
       "      <th>6</th>\n",
       "      <td>Janet Reno</td>\n",
       "      <td>lawyer</td>\n",
       "      <td>78</td>\n",
       "      <td>False</td>\n",
       "      <td>1938-07-21</td>\n",
       "      <td>2016-11-07</td>\n",
       "    </tr>\n",
       "    <tr>\n",
       "      <th>7</th>\n",
       "      <td>Gwen Ifill</td>\n",
       "      <td>journalist</td>\n",
       "      <td>61</td>\n",
       "      <td>False</td>\n",
       "      <td>1955-09-29</td>\n",
       "      <td>2016-11-14</td>\n",
       "    </tr>\n",
       "    <tr>\n",
       "      <th>8</th>\n",
       "      <td>John Glenn</td>\n",
       "      <td>astronaut</td>\n",
       "      <td>95</td>\n",
       "      <td>True</td>\n",
       "      <td>1921-07-28</td>\n",
       "      <td>2016-12-08</td>\n",
       "    </tr>\n",
       "    <tr>\n",
       "      <th>9</th>\n",
       "      <td>Pat Summit</td>\n",
       "      <td>coach</td>\n",
       "      <td>64</td>\n",
       "      <td>True</td>\n",
       "      <td>1952-06-14</td>\n",
       "      <td>2016-06-28</td>\n",
       "    </tr>\n",
       "  </tbody>\n",
       "</table>\n",
       "</div>"
      ],
      "text/plain": [
       "             Name  Profession  Age  Has kids Date of birth Date of death\n",
       "0      Vera Rubin   scientist   88      True    1928-07-23    2016-12-25\n",
       "1     Mohamed Ali     athlete   74      True    1942-01-17    2016-06-03\n",
       "2    Morley Safer  journalist   84      True    1931-11-08    2016-05-19\n",
       "3    Fidel Castro  politician   90      True    1926-08-13    2016-11-25\n",
       "4  Antonin Scalia      lawyer   79      True    1936-03-11    2016-02-13\n",
       "5          Jo Cox  politician   41      True    1974-06-22    2016-06-16\n",
       "6      Janet Reno      lawyer   78     False    1938-07-21    2016-11-07\n",
       "7      Gwen Ifill  journalist   61     False    1955-09-29    2016-11-14\n",
       "8      John Glenn   astronaut   95      True    1921-07-28    2016-12-08\n",
       "9      Pat Summit       coach   64      True    1952-06-14    2016-06-28"
      ]
     },
     "execution_count": 5,
     "metadata": {},
     "output_type": "execute_result"
    }
   ],
   "source": [
    "df = xlsfile.parse('Sheet1')\n",
    "df"
   ]
  }
 ],
 "metadata": {
  "kernelspec": {
   "display_name": "Python 3",
   "language": "python",
   "name": "python3"
  },
  "language_info": {
   "codemirror_mode": {
    "name": "ipython",
    "version": 3
   },
   "file_extension": ".py",
   "mimetype": "text/x-python",
   "name": "python",
   "nbconvert_exporter": "python",
   "pygments_lexer": "ipython3",
   "version": "3.7.0"
  }
 },
 "nbformat": 4,
 "nbformat_minor": 2
}
