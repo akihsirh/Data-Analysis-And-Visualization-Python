{
 "cells": [
  {
   "cell_type": "markdown",
   "metadata": {},
   "source": [
    "## Arrays"
   ]
  },
  {
   "cell_type": "markdown",
   "metadata": {},
   "source": [
    "### Creating Arrays"
   ]
  },
  {
   "cell_type": "code",
   "execution_count": 2,
   "metadata": {},
   "outputs": [],
   "source": [
    "import numpy as np"
   ]
  },
  {
   "cell_type": "code",
   "execution_count": 3,
   "metadata": {},
   "outputs": [
    {
     "data": {
      "text/plain": [
       "array([1, 2, 3, 4, 5])"
      ]
     },
     "execution_count": 3,
     "metadata": {},
     "output_type": "execute_result"
    }
   ],
   "source": [
    "mylist = [1,2,3,4,5]\n",
    "myarray = np.array(mylist)\n",
    "myarray"
   ]
  },
  {
   "cell_type": "code",
   "execution_count": 4,
   "metadata": {},
   "outputs": [],
   "source": [
    "mylist2 = [21,233,45,67,56]"
   ]
  },
  {
   "cell_type": "code",
   "execution_count": 5,
   "metadata": {},
   "outputs": [
    {
     "name": "stdout",
     "output_type": "stream",
     "text": [
      "[[1, 2, 3, 4, 5], [21, 233, 45, 67, 56]]\n"
     ]
    }
   ],
   "source": [
    "mylists = [mylist, mylist2]\n",
    "print(mylists)"
   ]
  },
  {
   "cell_type": "code",
   "execution_count": 6,
   "metadata": {},
   "outputs": [
    {
     "name": "stdout",
     "output_type": "stream",
     "text": [
      "[[  1   2   3   4   5]\n",
      " [ 21 233  45  67  56]]\n"
     ]
    }
   ],
   "source": [
    "## if you want to create a proper n dimensional array out of a list of lists then make sure both the lists have the same\n",
    "## number of elements in it\n",
    "myarray2 = np.array(mylists)\n",
    "print(myarray2)"
   ]
  },
  {
   "cell_type": "code",
   "execution_count": 7,
   "metadata": {},
   "outputs": [
    {
     "name": "stdout",
     "output_type": "stream",
     "text": [
      "(2, 5)\n"
     ]
    }
   ],
   "source": [
    "#shape of array\n",
    "print(myarray2.shape)"
   ]
  },
  {
   "cell_type": "code",
   "execution_count": 8,
   "metadata": {},
   "outputs": [
    {
     "data": {
      "text/plain": [
       "dtype('int32')"
      ]
     },
     "execution_count": 8,
     "metadata": {},
     "output_type": "execute_result"
    }
   ],
   "source": [
    "#type of array \n",
    "myarray2.dtype"
   ]
  },
  {
   "cell_type": "code",
   "execution_count": 9,
   "metadata": {},
   "outputs": [
    {
     "name": "stdout",
     "output_type": "stream",
     "text": [
      "Matrix of zeros: [0. 0. 0. 0. 0.]\n",
      "Data type of matrix (applicable to all special mupy arrays created here): float64\n",
      "Matrix of ones: [1. 1. 1. 1.]\n",
      "Matrix of ones: [[1. 1. 1. 1. 1. 1.]\n",
      " [1. 1. 1. 1. 1. 1.]\n",
      " [1. 1. 1. 1. 1. 1.]]\n",
      "Identity matrix 1: [[1. 0. 0.]\n",
      " [0. 1. 0.]\n",
      " [0. 0. 1.]]\n",
      "Identity matrix 2: [[1. 0.]]\n",
      "Empty matrix [[0. 0. 0.]\n",
      " [0. 0. 0.]]\n"
     ]
    }
   ],
   "source": [
    "#### special type of arrays\n",
    "\n",
    "## array of zeros \n",
    "d1_zeros = np.zeros(5)\n",
    "print(\"Matrix of zeros:\",d1_zeros)\n",
    "print(\"Data type of matrix (applicable to all special mupy arrays created here):\",d1_zeros.dtype)\n",
    "\n",
    "## array of ones\n",
    "d2_ones = np.ones(4)\n",
    "d3_ones = np.ones([3,6])\n",
    "print(\"Matrix of ones:\",d2_ones)\n",
    "print(\"Matrix of ones:\",d3_ones)\n",
    "\n",
    "## identity matrix \n",
    "identity = np.eye(3)\n",
    "identity1 = np.eye(1,2)\n",
    "print(\"Identity matrix 1:\", identity)\n",
    "print(\"Identity matrix 2:\",identity1)\n",
    "\n",
    "## empty matrix OR basically array of zeros\n",
    "empty = np.empty([2,3])\n",
    "print(\"Empty matrix\", empty)"
   ]
  },
  {
   "cell_type": "code",
   "execution_count": 10,
   "metadata": {},
   "outputs": [
    {
     "name": "stdout",
     "output_type": "stream",
     "text": [
      "Range of numbers matrix 1: [ 1  3  5  7  9 11 13 15 17 19]\n",
      "Range of numbers matrix 2: [0 1 2 3 4 5 6 7 8 9]\n"
     ]
    }
   ],
   "source": [
    "## matrix with number range\n",
    "\n",
    "range1 = np.arange(1, 20 , 2)\n",
    "print(\"Range of numbers matrix 1:\", range1)\n",
    "\n",
    "\n",
    "range2 = np.arange(10)\n",
    "print(\"Range of numbers matrix 2:\", range2)"
   ]
  },
  {
   "cell_type": "markdown",
   "metadata": {},
   "source": [
    "### Using arrays and scalars"
   ]
  },
  {
   "cell_type": "code",
   "execution_count": 11,
   "metadata": {},
   "outputs": [
    {
     "data": {
      "text/plain": [
       "2.5"
      ]
     },
     "execution_count": 11,
     "metadata": {},
     "output_type": "execute_result"
    }
   ],
   "source": [
    "5/2"
   ]
  },
  {
   "cell_type": "code",
   "execution_count": 12,
   "metadata": {},
   "outputs": [],
   "source": [
    "array3 = np.array([1,2,3,4,5])"
   ]
  },
  {
   "cell_type": "code",
   "execution_count": 13,
   "metadata": {},
   "outputs": [
    {
     "name": "stdout",
     "output_type": "stream",
     "text": [
      "Multiplication by 3  [ 3  6  9 12 15]\n",
      "Squared array  [ 1  4  9 16 25]\n",
      "Subtraction of array by itself  [0 0 0 0 0]\n",
      "Element wise inversion of elements  [1.         0.5        0.33333333 0.25       0.2       ]\n"
     ]
    }
   ],
   "source": [
    "# duplicate contents x number of times\n",
    "print(\"Multiplication by 3 \", array3 * 3)\n",
    "\n",
    "# element wise multiplication \n",
    "print(\"Squared array \", array3 ** 2)\n",
    "\n",
    "# array subtraction\n",
    "print(\"Subtraction of array by itself \", array3 - array3)\n",
    "\n",
    "array3 = np.array([1,2,3,4,5])\n",
    "#Array division\n",
    "print(\"Element wise inversion of elements \", 1/array3)"
   ]
  },
  {
   "cell_type": "markdown",
   "metadata": {},
   "source": [
    "### Indexing and slicing arrays"
   ]
  },
  {
   "cell_type": "code",
   "execution_count": 14,
   "metadata": {},
   "outputs": [
    {
     "name": "stdout",
     "output_type": "stream",
     "text": [
      "Array: [ 1  2  3  4  5  6  7  8  9 10]\n",
      "6th element of array 6\n",
      "Array slice: [1 2 3 4 5]\n",
      "Copied array: [ 1  2  3  4  5  6  7  8  9 10]\n",
      "Array with replaced elements: [99 99 99 99 99  6  7  8  9 10]\n"
     ]
    }
   ],
   "source": [
    "iandsarray = np.arange(1,11)\n",
    "print(\"Array:\", iandsarray)\n",
    "print(\"6th element of array\",iandsarray[5])\n",
    "print(\"Array slice:\", iandsarray[0:5])\n",
    "\n",
    "#make a copy of the array\n",
    "arrcopy = iandsarray.copy()\n",
    "print(\"Copied array:\", arrcopy)\n",
    "\n",
    "arrcopy[0:5] = 99\n",
    "print(\"Array with replaced elements:\", arrcopy)\n"
   ]
  },
  {
   "cell_type": "markdown",
   "metadata": {},
   "source": [
    "### Indexing and slicing 2d arrays"
   ]
  },
  {
   "cell_type": "code",
   "execution_count": 15,
   "metadata": {},
   "outputs": [
    {
     "name": "stdout",
     "output_type": "stream",
     "text": [
      "2d array: [[ 1  2  3  4]\n",
      " [ 5  6  7  8]\n",
      " [ 9 10 11 12]]\n"
     ]
    }
   ],
   "source": [
    "arr2d = np.array(([1,2,3,4], [5,6,7,8], [9,10,11,12]))\n",
    "print(\"2d array:\", arr2d)"
   ]
  },
  {
   "cell_type": "code",
   "execution_count": 16,
   "metadata": {},
   "outputs": [
    {
     "name": "stdout",
     "output_type": "stream",
     "text": [
      "2D array row: [5 6 7 8]\n",
      "2D array single element: 7\n",
      "2d array slicing: [[2 3 4]\n",
      " [6 7 8]]\n"
     ]
    }
   ],
   "source": [
    "print(\"2D array row:\", arr2d[1])\n",
    "print(\"2D array single element:\", arr2d[1][2])\n",
    "print(\"2d array slicing:\", arr2d[:2,1:])"
   ]
  },
  {
   "cell_type": "markdown",
   "metadata": {},
   "source": [
    "### Fancy Indexing"
   ]
  },
  {
   "cell_type": "code",
   "execution_count": 17,
   "metadata": {},
   "outputs": [
    {
     "name": "stdout",
     "output_type": "stream",
     "text": [
      "[[0. 0. 0. 0. 0.]\n",
      " [1. 1. 1. 1. 1.]\n",
      " [2. 2. 2. 2. 2.]\n",
      " [3. 3. 3. 3. 3.]\n",
      " [4. 4. 4. 4. 4.]]\n",
      "Fancy indexing: fancy[[2,4]]: [[2. 2. 2. 2. 2.]\n",
      " [4. 4. 4. 4. 4.]]\n",
      "Fancy indexing: fancy[[4,2]]: [[4. 4. 4. 4. 4.]\n",
      " [2. 2. 2. 2. 2.]]\n"
     ]
    }
   ],
   "source": [
    "fancy = np.ones((5,5))\n",
    "\n",
    "#get the number of rows \n",
    "nrows = fancy.shape[1]\n",
    "\n",
    "#row wise element assignment \n",
    "for i in range(nrows):\n",
    "    fancy[i] = i\n",
    "\n",
    "print(fancy)\n",
    "print(\"Fancy indexing: fancy[[2,4]]:\", fancy[[2,4]])\n",
    "print(\"Fancy indexing: fancy[[4,2]]:\", fancy[[4,2]])"
   ]
  },
  {
   "cell_type": "code",
   "execution_count": 18,
   "metadata": {},
   "outputs": [
    {
     "data": {
      "text/plain": [
       "array([[ 0,  1,  2,  3,  4],\n",
       "       [ 5,  6,  7,  8,  9],\n",
       "       [10, 11, 12, 13, 14],\n",
       "       [15, 16, 17, 18, 19],\n",
       "       [20, 21, 22, 23, 24],\n",
       "       [25, 26, 27, 28, 29],\n",
       "       [30, 31, 32, 33, 34],\n",
       "       [35, 36, 37, 38, 39],\n",
       "       [40, 41, 42, 43, 44],\n",
       "       [45, 46, 47, 48, 49]])"
      ]
     },
     "execution_count": 18,
     "metadata": {},
     "output_type": "execute_result"
    }
   ],
   "source": [
    "shapy = np.arange(50).reshape(10,5)\n",
    "shapy"
   ]
  },
  {
   "cell_type": "code",
   "execution_count": 19,
   "metadata": {},
   "outputs": [
    {
     "data": {
      "text/plain": [
       "array([[ 0,  5, 10, 15, 20, 25, 30, 35, 40, 45],\n",
       "       [ 1,  6, 11, 16, 21, 26, 31, 36, 41, 46],\n",
       "       [ 2,  7, 12, 17, 22, 27, 32, 37, 42, 47],\n",
       "       [ 3,  8, 13, 18, 23, 28, 33, 38, 43, 48],\n",
       "       [ 4,  9, 14, 19, 24, 29, 34, 39, 44, 49]])"
      ]
     },
     "execution_count": 19,
     "metadata": {},
     "output_type": "execute_result"
    }
   ],
   "source": [
    "#Transpose matrix \n",
    "shapy.T"
   ]
  },
  {
   "cell_type": "code",
   "execution_count": 20,
   "metadata": {},
   "outputs": [
    {
     "data": {
      "text/plain": [
       "array([[7125, 7350, 7575, 7800, 8025],\n",
       "       [7350, 7585, 7820, 8055, 8290],\n",
       "       [7575, 7820, 8065, 8310, 8555],\n",
       "       [7800, 8055, 8310, 8565, 8820],\n",
       "       [8025, 8290, 8555, 8820, 9085]])"
      ]
     },
     "execution_count": 20,
     "metadata": {},
     "output_type": "execute_result"
    }
   ],
   "source": [
    "#dot product \n",
    "np.dot(shapy.T,shapy)"
   ]
  },
  {
   "cell_type": "code",
   "execution_count": 21,
   "metadata": {},
   "outputs": [
    {
     "data": {
      "text/plain": [
       "array([[[ 0,  1,  2,  3,  4],\n",
       "        [ 5,  6,  7,  8,  9],\n",
       "        [10, 11, 12, 13, 14],\n",
       "        [15, 16, 17, 18, 19],\n",
       "        [20, 21, 22, 23, 24]],\n",
       "\n",
       "       [[25, 26, 27, 28, 29],\n",
       "        [30, 31, 32, 33, 34],\n",
       "        [35, 36, 37, 38, 39],\n",
       "        [40, 41, 42, 43, 44],\n",
       "        [45, 46, 47, 48, 49]]])"
      ]
     },
     "execution_count": 21,
     "metadata": {},
     "output_type": "execute_result"
    }
   ],
   "source": [
    "# 3D array creation\n",
    "arr_3D = shapy.reshape((2,5,5))\n",
    "arr_3D"
   ]
  },
  {
   "cell_type": "code",
   "execution_count": 22,
   "metadata": {},
   "outputs": [
    {
     "data": {
      "text/plain": [
       "array([[[ 0,  1,  2,  3,  4],\n",
       "        [25, 26, 27, 28, 29]],\n",
       "\n",
       "       [[ 5,  6,  7,  8,  9],\n",
       "        [30, 31, 32, 33, 34]],\n",
       "\n",
       "       [[10, 11, 12, 13, 14],\n",
       "        [35, 36, 37, 38, 39]],\n",
       "\n",
       "       [[15, 16, 17, 18, 19],\n",
       "        [40, 41, 42, 43, 44]],\n",
       "\n",
       "       [[20, 21, 22, 23, 24],\n",
       "        [45, 46, 47, 48, 49]]])"
      ]
     },
     "execution_count": 22,
     "metadata": {},
     "output_type": "execute_result"
    }
   ],
   "source": [
    "arr3D_transpose = arr_3D.transpose((1,0,2))\n",
    "arr3D_transpose"
   ]
  },
  {
   "cell_type": "code",
   "execution_count": 23,
   "metadata": {},
   "outputs": [
    {
     "name": "stdout",
     "output_type": "stream",
     "text": [
      "[[1 2 3]\n",
      " [4 5 6]]\n"
     ]
    },
    {
     "data": {
      "text/plain": [
       "array([[1, 4],\n",
       "       [2, 5],\n",
       "       [3, 6]])"
      ]
     },
     "execution_count": 23,
     "metadata": {},
     "output_type": "execute_result"
    }
   ],
   "source": [
    "#swap axes \n",
    "swapy = np.array([[1,2,3],[4,5,6]])\n",
    "print(swapy)\n",
    "swapy.swapaxes(0,1)"
   ]
  },
  {
   "cell_type": "markdown",
   "metadata": {},
   "source": [
    "### Universal array functions"
   ]
  },
  {
   "cell_type": "code",
   "execution_count": 24,
   "metadata": {},
   "outputs": [
    {
     "data": {
      "text/plain": [
       "array([1.        , 1.41421356, 1.73205081, 2.        , 2.23606798,\n",
       "       2.44948974, 2.64575131, 2.82842712, 3.        , 3.16227766])"
      ]
     },
     "execution_count": 24,
     "metadata": {},
     "output_type": "execute_result"
    }
   ],
   "source": [
    "#square root \n",
    "A = np.sqrt(np.arange(1,11))\n",
    "A"
   ]
  },
  {
   "cell_type": "code",
   "execution_count": 25,
   "metadata": {},
   "outputs": [
    {
     "data": {
      "text/plain": [
       "array([2.71828183e+00, 7.38905610e+00, 2.00855369e+01, 5.45981500e+01,\n",
       "       1.48413159e+02, 4.03428793e+02, 1.09663316e+03, 2.98095799e+03,\n",
       "       8.10308393e+03, 2.20264658e+04])"
      ]
     },
     "execution_count": 25,
     "metadata": {},
     "output_type": "execute_result"
    }
   ],
   "source": [
    "#exponential function\n",
    "B = np.exp(np.arange(1,11))\n",
    "B"
   ]
  },
  {
   "cell_type": "code",
   "execution_count": 26,
   "metadata": {},
   "outputs": [
    {
     "data": {
      "text/plain": [
       "array([3.71828183e+00, 8.80326966e+00, 2.18175877e+01, 5.65981500e+01,\n",
       "       1.50649227e+02, 4.05878283e+02, 1.09927891e+03, 2.98378641e+03,\n",
       "       8.10608393e+03, 2.20296281e+04])"
      ]
     },
     "execution_count": 26,
     "metadata": {},
     "output_type": "execute_result"
    }
   ],
   "source": [
    "#Add two arrays\n",
    "sum_of = np.add(A,B)\n",
    "sum_of"
   ]
  },
  {
   "cell_type": "code",
   "execution_count": 27,
   "metadata": {},
   "outputs": [
    {
     "data": {
      "text/plain": [
       "array([ 0.87389662, -0.06915625,  0.7330384 , -0.98996477, -1.03165948,\n",
       "        0.47206341,  1.27779911,  1.35324284,  1.64972426,  0.85873817])"
      ]
     },
     "execution_count": 27,
     "metadata": {},
     "output_type": "execute_result"
    }
   ],
   "source": [
    "# create a random array of n number from a normal distribution\n",
    "np.random.randn(10)"
   ]
  },
  {
   "cell_type": "markdown",
   "metadata": {},
   "source": [
    "### Array Processing"
   ]
  },
  {
   "cell_type": "code",
   "execution_count": 29,
   "metadata": {},
   "outputs": [
    {
     "name": "stdout",
     "output_type": "stream",
     "text": [
      "[  1   2 300 400]\n",
      "[[ 0.         -1.25230062  0.          0.         -0.51086507]\n",
      " [-0.7646859  -1.77978813  0.         -0.41925339  0.        ]\n",
      " [ 0.          0.          0.         -0.26792647 -0.28251846]\n",
      " [-0.06202134  0.          0.         -0.54439698  0.        ]\n",
      " [ 0.         -0.28051201  0.          0.          0.        ]]\n"
     ]
    }
   ],
   "source": [
    "arr1 = np.array([1,2,3,4])\n",
    "arr2 = np.array([100,200,300,400])\n",
    "bool_arr = np.array([True,True, False, False])\n",
    "#Use a function to extract values you want - if condition true then choose value from first array else from 2nd array\n",
    "choose_nos = np.where(bool_arr, arr1, arr2)\n",
    "print(choose_nos)\n",
    "\n",
    "#use np.where to clean up arrays\n",
    "from numpy.random import randn\n",
    "random_arr = randn(5,5)\n",
    "clean_rand = np.where(0<random_arr,0,random_arr)\n",
    "print(clean_rand)"
   ]
  },
  {
   "cell_type": "code",
   "execution_count": 38,
   "metadata": {},
   "outputs": [
    {
     "name": "stdout",
     "output_type": "stream",
     "text": [
      "[[ 1  2  3  4  5]\n",
      " [ 6  7  8  9 10]\n",
      " [11 12 13 14 15]\n",
      " [16 17 18 19 20]\n",
      " [21 22 23 24 25]]\n",
      "325\n",
      "[ 15  40  65  90 115]\n",
      "[55 60 65 70 75]\n",
      "13.0\n",
      "7.211102550927978\n",
      "52.0\n"
     ]
    }
   ],
   "source": [
    "#Sum elements in an array\n",
    "range_arr = np.arange(1,26).reshape(5,5)\n",
    "print(range_arr)\n",
    "\n",
    "sum_of_all = np.sum(range_arr)\n",
    "print(sum_of_all)\n",
    "\n",
    "sum_along_row = np.sum(range_arr,1)\n",
    "print(sum_along_row)\n",
    "\n",
    "sum_along_col = np.sum(range_arr,0)\n",
    "print(sum_along_col)\n",
    "\n",
    "mean_of_arr = np.mean(range_arr)\n",
    "print(mean_of_arr)\n",
    "\n",
    "std_of_arr = np.std(range_arr)\n",
    "print(std_of_arr)\n",
    "\n",
    "var_of_arr = np.var(range_arr)\n",
    "print(var_of_arr)"
   ]
  },
  {
   "cell_type": "code",
   "execution_count": 44,
   "metadata": {},
   "outputs": [
    {
     "name": "stdout",
     "output_type": "stream",
     "text": [
      "True\n",
      "False\n"
     ]
    }
   ],
   "source": [
    "#return true if any in the arr is true\n",
    "print(bool_arr.any())\n",
    "print(bool_arr.all())"
   ]
  },
  {
   "cell_type": "code",
   "execution_count": 47,
   "metadata": {},
   "outputs": [
    {
     "name": "stdout",
     "output_type": "stream",
     "text": [
      "[ 2.07545177 -0.51694903  0.2447257  -0.26102595 -0.37066379]\n",
      "After sorting  [-0.51694903 -0.37066379 -0.26102595  0.2447257   2.07545177]\n"
     ]
    }
   ],
   "source": [
    "##array sort\n",
    "sort_arr = randn(5)\n",
    "print(sort_arr)\n",
    "sort_arr.sort()\n",
    "print(\"After sorting \",sort_arr)"
   ]
  },
  {
   "cell_type": "code",
   "execution_count": 50,
   "metadata": {},
   "outputs": [
    {
     "name": "stdout",
     "output_type": "stream",
     "text": [
      "Array with duplicate values  [1 2 3 5 2 3 1]\n",
      "Array with unique values  [1 2 3 5]\n"
     ]
    }
   ],
   "source": [
    "# find out unique values \n",
    "dup_arr = np.array([1,2,3,5,2,3,1])\n",
    "print(\"Array with duplicate values \",dup_arr)\n",
    "print(\"Array with unique values \", np.unique(dup_arr))"
   ]
  },
  {
   "cell_type": "code",
   "execution_count": 49,
   "metadata": {},
   "outputs": [
    {
     "data": {
      "text/plain": [
       "array([ True,  True, False])"
      ]
     },
     "execution_count": 49,
     "metadata": {},
     "output_type": "execute_result"
    }
   ],
   "source": [
    "#Test values in 1d array\n",
    "np.in1d([1,3,6],dup_arr)"
   ]
  }
 ],
 "metadata": {
  "kernelspec": {
   "display_name": "Python 3",
   "language": "python",
   "name": "python3"
  },
  "language_info": {
   "codemirror_mode": {
    "name": "ipython",
    "version": 3
   },
   "file_extension": ".py",
   "mimetype": "text/x-python",
   "name": "python",
   "nbconvert_exporter": "python",
   "pygments_lexer": "ipython3",
   "version": "3.7.0"
  }
 },
 "nbformat": 4,
 "nbformat_minor": 2
}
